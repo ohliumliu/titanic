{
 "cells": [
  {
   "cell_type": "code",
   "execution_count": 1,
   "metadata": {
    "collapsed": true
   },
   "outputs": [],
   "source": [
    "import sys \n",
    "import os\n",
    "sys.path.append(os.path.abspath(\"/home/yu/MachineLearning/\"))\n",
    "from machine_learning_utility import *"
   ]
  },
  {
   "cell_type": "code",
   "execution_count": 2,
   "metadata": {
    "collapsed": true
   },
   "outputs": [],
   "source": [
    "# get the training data\n",
    "df = pd.read_csv('train.csv', header=0)"
   ]
  },
  {
   "cell_type": "code",
   "execution_count": 4,
   "metadata": {
    "collapsed": true
   },
   "outputs": [],
   "source": [
    "def data_cleanup(df):\n",
    "    ## Method to clean up input dataframe. This is a collection of steps used above\n",
    "\n",
    "    # add a column of Gender\n",
    "    df[\"Gender\"] = df[\"Sex\"] == df[\"Sex\"].unique()[0]\n",
    "    df[\"Gender\"] = df[\"Gender\"].astype(int)\n",
    "    \n",
    "    # fill unknown age with median based on pclass and gender\n",
    "    median_age = df.groupby(['Pclass', 'Gender']).median()['Age']\n",
    "    df['AgeFill'] = df['Age']\n",
    "    for pclass in df['Pclass'].unique():\n",
    "        for gender in df['Gender'].unique():\n",
    "            df.loc[(df['AgeFill'].isnull()) & (df['Pclass']==pclass) & (df['Gender']==gender),'AgeFill'] = median_age[pclass][gender]\n",
    "    df['AgeIsNull'] = df['Age'].isnull().astype(int)    \n",
    "\n",
    "    # fill unknown fare with median based on pclass\n",
    "    median_fare = df.groupby('Pclass').median()['Fare']\n",
    "    df['FareFill'] = df['Fare']\n",
    "    for pclass in df['Pclass'].unique():\n",
    "        df.loc[(df['FareFill'].isnull()) & (df['Pclass']==pclass),'FareFill'] = median_fare[pclass]\n",
    "    df['FareIsNull'] = df['Fare'].isnull().astype(int)    \n",
    "    \n",
    "    # add some features\n",
    "    df['FamilySize'] = df['Parch'] + df['SibSp']\n",
    "    df['Age*Pclass'] = df['AgeFill']*df['Pclass']\n",
    "    \n",
    "    # convert Embarded to numerical values\n",
    "    df.Embarked.fillna(value = df.Embarked.dropna().mode()[0], inplace=True)\n",
    "    port_dict = {p: i for (i, p) in enumerate(df.Embarked.unique())}\n",
    "    df['Embarked_n'] = df['Embarked'].map(lambda x: port_dict[x]) \n",
    "    \n",
    "    return df"
   ]
  },
  {
   "cell_type": "code",
   "execution_count": 83,
   "metadata": {
    "collapsed": false
   },
   "outputs": [],
   "source": [
    "# read and clean up train data again using data_cleanup\n",
    "train_df = pd.read_csv('train.csv', header=0)\n",
    "train_df = data_cleanup(train_df)"
   ]
  },
  {
   "cell_type": "code",
   "execution_count": 6,
   "metadata": {
    "collapsed": false
   },
   "outputs": [],
   "source": [
    "# read and clean up test data\n",
    "test_df = pd.read_csv('test.csv', header=0)\n",
    "test_df = data_cleanup(test_df)"
   ]
  },
  {
   "cell_type": "code",
   "execution_count": 7,
   "metadata": {
    "collapsed": false
   },
   "outputs": [
    {
     "data": {
      "text/plain": [
       "{'Age',\n",
       " 'Age*Pclass',\n",
       " 'AgeFill',\n",
       " 'AgeIsNull',\n",
       " 'Cabin',\n",
       " 'Embarked',\n",
       " 'Embarked_n',\n",
       " 'FamilySize',\n",
       " 'Fare',\n",
       " 'FareFill',\n",
       " 'FareIsNull',\n",
       " 'Gender',\n",
       " 'Name',\n",
       " 'Parch',\n",
       " 'PassengerId',\n",
       " 'Pclass',\n",
       " 'Sex',\n",
       " 'SibSp',\n",
       " 'Ticket'}"
      ]
     },
     "execution_count": 7,
     "metadata": {},
     "output_type": "execute_result"
    }
   ],
   "source": [
    "set(test_df.columns.values) "
   ]
  },
  {
   "cell_type": "code",
   "execution_count": 8,
   "metadata": {
    "collapsed": false,
    "scrolled": true
   },
   "outputs": [
    {
     "data": {
      "text/plain": [
       "0.78026905829596416"
      ]
     },
     "execution_count": 8,
     "metadata": {},
     "output_type": "execute_result"
    }
   ],
   "source": [
    "# fitting with random forest\n",
    "features = ['AgeFill', 'Pclass', 'FareFill', 'Gender', 'FamilySize', 'Embarked_n']\n",
    "label = 'Survived'\n",
    "x_train, x_test, y_train, y_test = train_test_split(train_df[features], train_df[label])\n",
    "rf_clf = RandomForestClassifier(n_estimators=1000, criterion='entropy')\n",
    "rf_clf.fit(x_train, y_train)\n",
    "rf_clf.score(x_test, y_test)"
   ]
  },
  {
   "cell_type": "code",
   "execution_count": 9,
   "metadata": {
    "collapsed": false,
    "scrolled": true
   },
   "outputs": [],
   "source": [
    "# make prediction\n",
    "rf_clf = RandomForestClassifier(n_estimators=100)\n",
    "rf_clf.fit(train_df[features], train_df[label])\n",
    "test_df[label] = rf_clf.predict(test_df[features])\n",
    "test_df[['PassengerId', 'Survived']].to_csv('./test_label-'+str(datetime.date.today())+'.csv', index = None)\n",
    "# leader board:0.77"
   ]
  },
  {
   "cell_type": "code",
   "execution_count": 32,
   "metadata": {
    "collapsed": false,
    "scrolled": true
   },
   "outputs": [
    {
     "name": "stdout",
     "output_type": "stream",
     "text": [
      "# Tuning hyper-parameters for accuracy\n",
      "()\n",
      "Best parameters set found on development set:\n",
      "\n",
      "{'n_estimators': 250, 'criterion': 'entropy', 'max_depth': 16}\n",
      "()\n",
      "Grid scores on development set:\n",
      "()\n",
      "0.809 (+/-0.032) for {'n_estimators': 100, 'criterion': 'entropy', 'max_depth': 2}\n",
      "0.798 (+/-0.028) for {'n_estimators': 150, 'criterion': 'entropy', 'max_depth': 2}\n",
      "0.794 (+/-0.034) for {'n_estimators': 200, 'criterion': 'entropy', 'max_depth': 2}\n",
      "0.792 (+/-0.043) for {'n_estimators': 250, 'criterion': 'entropy', 'max_depth': 2}\n",
      "0.818 (+/-0.009) for {'n_estimators': 100, 'criterion': 'entropy', 'max_depth': 4}\n",
      "0.804 (+/-0.023) for {'n_estimators': 150, 'criterion': 'entropy', 'max_depth': 4}\n",
      "0.815 (+/-0.007) for {'n_estimators': 200, 'criterion': 'entropy', 'max_depth': 4}\n",
      "0.816 (+/-0.021) for {'n_estimators': 250, 'criterion': 'entropy', 'max_depth': 4}\n",
      "0.819 (+/-0.009) for {'n_estimators': 100, 'criterion': 'entropy', 'max_depth': 8}\n",
      "0.823 (+/-0.031) for {'n_estimators': 150, 'criterion': 'entropy', 'max_depth': 8}\n",
      "0.816 (+/-0.027) for {'n_estimators': 200, 'criterion': 'entropy', 'max_depth': 8}\n",
      "0.824 (+/-0.028) for {'n_estimators': 250, 'criterion': 'entropy', 'max_depth': 8}\n",
      "0.824 (+/-0.011) for {'n_estimators': 100, 'criterion': 'entropy', 'max_depth': 16}\n",
      "0.816 (+/-0.016) for {'n_estimators': 150, 'criterion': 'entropy', 'max_depth': 16}\n",
      "0.819 (+/-0.025) for {'n_estimators': 200, 'criterion': 'entropy', 'max_depth': 16}\n",
      "0.828 (+/-0.037) for {'n_estimators': 250, 'criterion': 'entropy', 'max_depth': 16}\n",
      "0.794 (+/-0.048) for {'n_estimators': 100, 'criterion': 'gini', 'max_depth': 2}\n",
      "0.800 (+/-0.036) for {'n_estimators': 150, 'criterion': 'gini', 'max_depth': 2}\n",
      "0.801 (+/-0.032) for {'n_estimators': 200, 'criterion': 'gini', 'max_depth': 2}\n",
      "0.801 (+/-0.038) for {'n_estimators': 250, 'criterion': 'gini', 'max_depth': 2}\n",
      "0.818 (+/-0.023) for {'n_estimators': 100, 'criterion': 'gini', 'max_depth': 4}\n",
      "0.815 (+/-0.021) for {'n_estimators': 150, 'criterion': 'gini', 'max_depth': 4}\n",
      "0.819 (+/-0.025) for {'n_estimators': 200, 'criterion': 'gini', 'max_depth': 4}\n",
      "0.823 (+/-0.037) for {'n_estimators': 250, 'criterion': 'gini', 'max_depth': 4}\n",
      "0.814 (+/-0.028) for {'n_estimators': 100, 'criterion': 'gini', 'max_depth': 8}\n",
      "0.819 (+/-0.021) for {'n_estimators': 150, 'criterion': 'gini', 'max_depth': 8}\n",
      "0.819 (+/-0.034) for {'n_estimators': 200, 'criterion': 'gini', 'max_depth': 8}\n",
      "0.821 (+/-0.029) for {'n_estimators': 250, 'criterion': 'gini', 'max_depth': 8}\n",
      "0.824 (+/-0.011) for {'n_estimators': 100, 'criterion': 'gini', 'max_depth': 16}\n",
      "0.818 (+/-0.019) for {'n_estimators': 150, 'criterion': 'gini', 'max_depth': 16}\n",
      "0.818 (+/-0.028) for {'n_estimators': 200, 'criterion': 'gini', 'max_depth': 16}\n",
      "0.821 (+/-0.029) for {'n_estimators': 250, 'criterion': 'gini', 'max_depth': 16}\n",
      "()\n",
      "Detailed classification report:\n",
      "()\n",
      "The model is trained on the full development set.\n",
      "The scores are computed on the full evaluation set.\n",
      "()\n",
      "             precision    recall  f1-score   support\n",
      "\n",
      "          0       0.77      0.94      0.85        51\n",
      "          1       0.89      0.64      0.75        39\n",
      "\n",
      "avg / total       0.83      0.81      0.80        90\n",
      "\n",
      "()\n"
     ]
    }
   ],
   "source": [
    "# Try random forest with gridsearchcv\n",
    "tuned_parameters = {'n_estimators': [100, 150, 200, 250], \n",
    "                    'max_depth': [2, 4, 8, 16], 'criterion': ['entropy', 'gini']}\n",
    "features = ['AgeFill', 'Pclass', 'FareFill', 'Gender', 'FamilySize', 'Embarked_n', 'PassengerId']\n",
    "label = 'Survived'\n",
    "rf_clf = gridsearchcv_wrapper(RandomForestClassifier(min_samples_leaf=10, max_features='sqrt', oob_score=True), tuned_parameters, train_df[features], train_df[label])\n",
    "test_df[label] = rf_clf.predict(test_df[features])\n",
    "test_df[['PassengerId', 'Survived']].to_csv('./test_label-'+str(datetime.date.today())+'.csv', index = None)\n",
    "# leader boarder: 0.7799 for some parameter set. not a significant improvement though."
   ]
  },
  {
   "cell_type": "code",
   "execution_count": 33,
   "metadata": {
    "collapsed": false
   },
   "outputs": [
    {
     "data": {
      "text/plain": [
       "RandomForestClassifier(bootstrap=True, class_weight=None, criterion='entropy',\n",
       "            max_depth=16, max_features='sqrt', max_leaf_nodes=None,\n",
       "            min_samples_leaf=10, min_samples_split=2,\n",
       "            min_weight_fraction_leaf=0.0, n_estimators=250, n_jobs=1,\n",
       "            oob_score=True, random_state=None, verbose=0, warm_start=False)"
      ]
     },
     "execution_count": 33,
     "metadata": {},
     "output_type": "execute_result"
    }
   ],
   "source": [
    "rf_clf"
   ]
  },
  {
   "cell_type": "markdown",
   "metadata": {},
   "source": [
    "## Useful references\n",
    "* How to tune randome forest (https://www.analyticsvidhya.com/blog/2015/06/tuning-random-forest-model/)\n",
    "  * n_estimator\n",
    "  * min_samples_leaf\n",
    "  * max_features\n",
    "* A detailed tutorial to achieve 0.81 on leader board (http://ahmedbesbes.com/how-to-score-08134-in-titanic-kaggle-challenge.html)\n",
    "  * Use stratified kfold\n",
    "  * Use ExtraTreesClassifier + SelectFromModel to reduce dimensionality\n",
    "  * How to convert multiclass features to multifeatures of binary class. use dummies.\n",
    "  * Proper normalization"
   ]
  },
  {
   "cell_type": "code",
   "execution_count": 79,
   "metadata": {
    "collapsed": false
   },
   "outputs": [],
   "source": [
    "# Convert categorical data to a collection of binary data\n",
    "def add_dummies(df, categories):\n",
    "## add columns named category_i's to df\n",
    "    for c in categories:\n",
    "        dummies = pd.get_dummies(df[c], prefix=c)\n",
    "        df = pd.concat([df, dummies], ignore_index=False, axis=1)\n",
    "    return df"
   ]
  },
  {
   "cell_type": "code",
   "execution_count": 84,
   "metadata": {
    "collapsed": false
   },
   "outputs": [],
   "source": [
    "# convert Pclass and Embarked_n to dummies\n",
    "train_df = add_dummies(train_df, ['Pclass', 'Embarked_n'])"
   ]
  },
  {
   "cell_type": "code",
   "execution_count": 85,
   "metadata": {
    "collapsed": false
   },
   "outputs": [
    {
     "data": {
      "text/plain": [
       "Index([u'PassengerId', u'Survived', u'Pclass', u'Name', u'Sex', u'Age',\n",
       "       u'SibSp', u'Parch', u'Ticket', u'Fare', u'Cabin', u'Embarked',\n",
       "       u'Gender', u'AgeFill', u'AgeIsNull', u'FareFill', u'FareIsNull',\n",
       "       u'FamilySize', u'Age*Pclass', u'Embarked_n', u'Pclass_1', u'Pclass_2',\n",
       "       u'Pclass_3', u'Embarked_n_0', u'Embarked_n_1', u'Embarked_n_2'],\n",
       "      dtype='object')"
      ]
     },
     "execution_count": 85,
     "metadata": {},
     "output_type": "execute_result"
    }
   ],
   "source": [
    "train_df.columns"
   ]
  },
  {
   "cell_type": "code",
   "execution_count": null,
   "metadata": {
    "collapsed": false,
    "scrolled": true
   },
   "outputs": [
    {
     "name": "stdout",
     "output_type": "stream",
     "text": [
      "# Tuning hyper-parameters for accuracy\n",
      "()\n"
     ]
    }
   ],
   "source": [
    "# Try random forest with gridsearchcv\n",
    "tuned_parameters = {'n_estimators': [100, 150, 200, 250], \n",
    "                    'max_depth': [2, 4, 8, 16], 'criterion': ['entropy', 'gini']}\n",
    "features = ['AgeFill', 'Pclass_1', 'Pclass_2', 'Pclass_3', 'FareFill', 'Gender', 'FamilySize', 'Embarked_n_0', \n",
    "            'Embarked_n_1', 'Embarked_n_2', 'PassengerId']\n",
    "label = 'Survived'\n",
    "rf_clf = gridsearchcv_wrapper(RandomForestClassifier(min_samples_leaf=10, max_features='sqrt', oob_score=True), tuned_parameters, train_df[features], train_df[label])\n",
    "test_df = add_dummies(test_df, ['Pclass', 'Embarked_n'])\n",
    "test_df[label] = rf_clf.predict(test_df[features])\n",
    "test_df[['PassengerId', 'Survived']].to_csv('./test_label-'+str(datetime.date.today())+'.csv', index = None)\n",
    "# 0.77512 same as above"
   ]
  },
  {
   "cell_type": "markdown",
   "metadata": {},
   "source": [
    "## TODO\n",
    "\n",
    "### Extract features\n",
    "### normalize features"
   ]
  },
  {
   "cell_type": "code",
   "execution_count": 10,
   "metadata": {
    "collapsed": false,
    "scrolled": true
   },
   "outputs": [
    {
     "data": {
      "text/plain": [
       "0.68609865470852016"
      ]
     },
     "execution_count": 10,
     "metadata": {},
     "output_type": "execute_result"
    }
   ],
   "source": [
    "# fitting with KNN. Even with overfitting, score is about 0.75\n",
    "knn_clf = KNeighborsClassifier(n_neighbors=1)\n",
    "knn_clf.fit(x_train, y_train)\n",
    "knn_clf.score(x_test, y_test)"
   ]
  },
  {
   "cell_type": "code",
   "execution_count": 100,
   "metadata": {
    "collapsed": true
   },
   "outputs": [],
   "source": [
    "# gridsearchcv wrapper\n",
    "def gridsearchcv_wrapper(model, parameters, x, y, scores = ['accuracy']):\n",
    "    ### wrapper for GridSearchCV\n",
    "    ### model: model to be optimized\n",
    "    ### parameters: parameter space for gridsearchcv\n",
    "    ### x, y: training set\n",
    "    ### scores: list of scoring functions\n",
    "    \n",
    "    # get train and test data\n",
    "    x_train, x_test, y_train, y_test = cross_validation.train_test_split(x, y, random_state = 0, test_size = 0.01)\n",
    "    for score in scores:\n",
    "        print(\"# Tuning hyper-parameters for %s\" % score)\n",
    "        print()\n",
    "\n",
    "        cross_valid = cross_validation.StratifiedKFold(y_train)\n",
    "        clf = GridSearchCV(model, parameters, cv=cross_valid,\n",
    "                           scoring=score)\n",
    "        clf.fit(x_train, y_train)\n",
    "\n",
    "        print(\"Best parameters set found on development set:\")\n",
    "        print\n",
    "        print(clf.best_params_)\n",
    "        print()\n",
    "        print(\"Grid scores on development set:\")\n",
    "        print()\n",
    "        for params, mean_score, scores in clf.grid_scores_:\n",
    "            print(\"%0.3f (+/-%0.03f) for %r\"\n",
    "                  % (mean_score, scores.std() * 2, params))\n",
    "        print()\n",
    "\n",
    "        print(\"Detailed classification report:\")\n",
    "        print()\n",
    "        print(\"The model is trained on the full development set.\")\n",
    "        print(\"The scores are computed on the full evaluation set.\")\n",
    "        print()\n",
    "        y_true, y_pred = y_test, clf.predict(x_test)\n",
    "        print(classification_report(y_true, y_pred))\n",
    "        print()\n",
    "    return clf.best_estimator_"
   ]
  },
  {
   "cell_type": "code",
   "execution_count": 180,
   "metadata": {
    "collapsed": false
   },
   "outputs": [
    {
     "name": "stdout",
     "output_type": "stream",
     "text": [
      "# Tuning hyper-parameters for accuracy\n",
      "()\n",
      "Best parameters set found on development set:\n",
      "\n",
      "{'kernel': 'rbf', 'C': 90, 'gamma': 0.0021000000000000003}\n",
      "()\n",
      "Grid scores on development set:\n",
      "()\n",
      "0.687 (+/-0.025) for {'kernel': 'rbf', 'C': 10, 'gamma': 0.0001}\n",
      "0.724 (+/-0.007) for {'kernel': 'rbf', 'C': 10, 'gamma': 0.00060000000000000006}\n",
      "0.737 (+/-0.028) for {'kernel': 'rbf', 'C': 10, 'gamma': 0.0011000000000000001}\n",
      "0.764 (+/-0.046) for {'kernel': 'rbf', 'C': 10, 'gamma': 0.0016000000000000001}\n",
      "0.772 (+/-0.028) for {'kernel': 'rbf', 'C': 10, 'gamma': 0.0021000000000000003}\n",
      "0.783 (+/-0.022) for {'kernel': 'rbf', 'C': 10, 'gamma': 0.0026000000000000003}\n",
      "0.775 (+/-0.016) for {'kernel': 'rbf', 'C': 10, 'gamma': 0.0031000000000000003}\n",
      "0.778 (+/-0.025) for {'kernel': 'rbf', 'C': 10, 'gamma': 0.0036000000000000003}\n",
      "0.780 (+/-0.020) for {'kernel': 'rbf', 'C': 10, 'gamma': 0.0041000000000000003}\n",
      "0.782 (+/-0.018) for {'kernel': 'rbf', 'C': 10, 'gamma': 0.0046000000000000008}\n",
      "0.782 (+/-0.025) for {'kernel': 'rbf', 'C': 10, 'gamma': 0.0051000000000000004}\n",
      "0.782 (+/-0.013) for {'kernel': 'rbf', 'C': 10, 'gamma': 0.0056000000000000008}\n",
      "0.777 (+/-0.025) for {'kernel': 'rbf', 'C': 10, 'gamma': 0.0061000000000000004}\n",
      "0.773 (+/-0.020) for {'kernel': 'rbf', 'C': 10, 'gamma': 0.0066000000000000008}\n",
      "0.777 (+/-0.020) for {'kernel': 'rbf', 'C': 10, 'gamma': 0.0071000000000000004}\n",
      "0.777 (+/-0.021) for {'kernel': 'rbf', 'C': 10, 'gamma': 0.0076000000000000009}\n",
      "0.778 (+/-0.025) for {'kernel': 'rbf', 'C': 10, 'gamma': 0.0081000000000000013}\n",
      "0.773 (+/-0.028) for {'kernel': 'rbf', 'C': 10, 'gamma': 0.0086}\n",
      "0.770 (+/-0.030) for {'kernel': 'rbf', 'C': 10, 'gamma': 0.0091000000000000004}\n",
      "0.765 (+/-0.039) for {'kernel': 'rbf', 'C': 10, 'gamma': 0.0096000000000000009}\n",
      "0.702 (+/-0.009) for {'kernel': 'rbf', 'C': 20, 'gamma': 0.0001}\n",
      "0.759 (+/-0.041) for {'kernel': 'rbf', 'C': 20, 'gamma': 0.00060000000000000006}\n",
      "0.777 (+/-0.009) for {'kernel': 'rbf', 'C': 20, 'gamma': 0.0011000000000000001}\n",
      "0.784 (+/-0.030) for {'kernel': 'rbf', 'C': 20, 'gamma': 0.0016000000000000001}\n",
      "0.783 (+/-0.038) for {'kernel': 'rbf', 'C': 20, 'gamma': 0.0021000000000000003}\n",
      "0.784 (+/-0.031) for {'kernel': 'rbf', 'C': 20, 'gamma': 0.0026000000000000003}\n",
      "0.784 (+/-0.030) for {'kernel': 'rbf', 'C': 20, 'gamma': 0.0031000000000000003}\n",
      "0.785 (+/-0.029) for {'kernel': 'rbf', 'C': 20, 'gamma': 0.0036000000000000003}\n",
      "0.787 (+/-0.022) for {'kernel': 'rbf', 'C': 20, 'gamma': 0.0041000000000000003}\n",
      "0.783 (+/-0.018) for {'kernel': 'rbf', 'C': 20, 'gamma': 0.0046000000000000008}\n",
      "0.780 (+/-0.025) for {'kernel': 'rbf', 'C': 20, 'gamma': 0.0051000000000000004}\n",
      "0.775 (+/-0.031) for {'kernel': 'rbf', 'C': 20, 'gamma': 0.0056000000000000008}\n",
      "0.773 (+/-0.021) for {'kernel': 'rbf', 'C': 20, 'gamma': 0.0061000000000000004}\n",
      "0.773 (+/-0.019) for {'kernel': 'rbf', 'C': 20, 'gamma': 0.0066000000000000008}\n",
      "0.772 (+/-0.006) for {'kernel': 'rbf', 'C': 20, 'gamma': 0.0071000000000000004}\n",
      "0.768 (+/-0.006) for {'kernel': 'rbf', 'C': 20, 'gamma': 0.0076000000000000009}\n",
      "0.768 (+/-0.006) for {'kernel': 'rbf', 'C': 20, 'gamma': 0.0081000000000000013}\n",
      "0.763 (+/-0.013) for {'kernel': 'rbf', 'C': 20, 'gamma': 0.0086}\n",
      "0.767 (+/-0.013) for {'kernel': 'rbf', 'C': 20, 'gamma': 0.0091000000000000004}\n",
      "0.762 (+/-0.020) for {'kernel': 'rbf', 'C': 20, 'gamma': 0.0096000000000000009}\n",
      "0.718 (+/-0.009) for {'kernel': 'rbf', 'C': 30, 'gamma': 0.0001}\n",
      "0.784 (+/-0.013) for {'kernel': 'rbf', 'C': 30, 'gamma': 0.00060000000000000006}\n",
      "0.782 (+/-0.019) for {'kernel': 'rbf', 'C': 30, 'gamma': 0.0011000000000000001}\n",
      "0.784 (+/-0.031) for {'kernel': 'rbf', 'C': 30, 'gamma': 0.0016000000000000001}\n",
      "0.788 (+/-0.025) for {'kernel': 'rbf', 'C': 30, 'gamma': 0.0021000000000000003}\n",
      "0.792 (+/-0.030) for {'kernel': 'rbf', 'C': 30, 'gamma': 0.0026000000000000003}\n",
      "0.794 (+/-0.027) for {'kernel': 'rbf', 'C': 30, 'gamma': 0.0031000000000000003}\n",
      "0.792 (+/-0.028) for {'kernel': 'rbf', 'C': 30, 'gamma': 0.0036000000000000003}\n",
      "0.789 (+/-0.025) for {'kernel': 'rbf', 'C': 30, 'gamma': 0.0041000000000000003}\n",
      "0.787 (+/-0.021) for {'kernel': 'rbf', 'C': 30, 'gamma': 0.0046000000000000008}\n",
      "0.784 (+/-0.021) for {'kernel': 'rbf', 'C': 30, 'gamma': 0.0051000000000000004}\n",
      "0.777 (+/-0.013) for {'kernel': 'rbf', 'C': 30, 'gamma': 0.0056000000000000008}\n",
      "0.774 (+/-0.009) for {'kernel': 'rbf', 'C': 30, 'gamma': 0.0061000000000000004}\n",
      "0.769 (+/-0.009) for {'kernel': 'rbf', 'C': 30, 'gamma': 0.0066000000000000008}\n",
      "0.768 (+/-0.012) for {'kernel': 'rbf', 'C': 30, 'gamma': 0.0071000000000000004}\n",
      "0.764 (+/-0.022) for {'kernel': 'rbf', 'C': 30, 'gamma': 0.0076000000000000009}\n",
      "0.768 (+/-0.021) for {'kernel': 'rbf', 'C': 30, 'gamma': 0.0081000000000000013}\n",
      "0.765 (+/-0.015) for {'kernel': 'rbf', 'C': 30, 'gamma': 0.0086}\n",
      "0.767 (+/-0.013) for {'kernel': 'rbf', 'C': 30, 'gamma': 0.0091000000000000004}\n",
      "0.765 (+/-0.013) for {'kernel': 'rbf', 'C': 30, 'gamma': 0.0096000000000000009}\n",
      "0.723 (+/-0.012) for {'kernel': 'rbf', 'C': 40, 'gamma': 0.0001}\n",
      "0.780 (+/-0.019) for {'kernel': 'rbf', 'C': 40, 'gamma': 0.00060000000000000006}\n",
      "0.782 (+/-0.035) for {'kernel': 'rbf', 'C': 40, 'gamma': 0.0011000000000000001}\n",
      "0.783 (+/-0.038) for {'kernel': 'rbf', 'C': 40, 'gamma': 0.0016000000000000001}\n",
      "0.792 (+/-0.042) for {'kernel': 'rbf', 'C': 40, 'gamma': 0.0021000000000000003}\n",
      "0.793 (+/-0.037) for {'kernel': 'rbf', 'C': 40, 'gamma': 0.0026000000000000003}\n",
      "0.797 (+/-0.018) for {'kernel': 'rbf', 'C': 40, 'gamma': 0.0031000000000000003}\n",
      "0.794 (+/-0.018) for {'kernel': 'rbf', 'C': 40, 'gamma': 0.0036000000000000003}\n",
      "0.787 (+/-0.011) for {'kernel': 'rbf', 'C': 40, 'gamma': 0.0041000000000000003}\n",
      "0.780 (+/-0.014) for {'kernel': 'rbf', 'C': 40, 'gamma': 0.0046000000000000008}\n",
      "0.778 (+/-0.019) for {'kernel': 'rbf', 'C': 40, 'gamma': 0.0051000000000000004}\n",
      "0.772 (+/-0.011) for {'kernel': 'rbf', 'C': 40, 'gamma': 0.0056000000000000008}\n",
      "0.770 (+/-0.028) for {'kernel': 'rbf', 'C': 40, 'gamma': 0.0061000000000000004}\n",
      "0.770 (+/-0.028) for {'kernel': 'rbf', 'C': 40, 'gamma': 0.0066000000000000008}\n",
      "0.769 (+/-0.029) for {'kernel': 'rbf', 'C': 40, 'gamma': 0.0071000000000000004}\n",
      "0.772 (+/-0.022) for {'kernel': 'rbf', 'C': 40, 'gamma': 0.0076000000000000009}\n",
      "0.769 (+/-0.018) for {'kernel': 'rbf', 'C': 40, 'gamma': 0.0081000000000000013}\n",
      "0.767 (+/-0.009) for {'kernel': 'rbf', 'C': 40, 'gamma': 0.0086}\n",
      "0.768 (+/-0.006) for {'kernel': 'rbf', 'C': 40, 'gamma': 0.0091000000000000004}\n",
      "0.760 (+/-0.011) for {'kernel': 'rbf', 'C': 40, 'gamma': 0.0096000000000000009}\n",
      "0.728 (+/-0.023) for {'kernel': 'rbf', 'C': 50, 'gamma': 0.0001}\n",
      "0.788 (+/-0.013) for {'kernel': 'rbf', 'C': 50, 'gamma': 0.00060000000000000006}\n",
      "0.782 (+/-0.039) for {'kernel': 'rbf', 'C': 50, 'gamma': 0.0011000000000000001}\n",
      "0.783 (+/-0.038) for {'kernel': 'rbf', 'C': 50, 'gamma': 0.0016000000000000001}\n",
      "0.797 (+/-0.023) for {'kernel': 'rbf', 'C': 50, 'gamma': 0.0021000000000000003}\n",
      "0.799 (+/-0.015) for {'kernel': 'rbf', 'C': 50, 'gamma': 0.0026000000000000003}\n",
      "0.798 (+/-0.016) for {'kernel': 'rbf', 'C': 50, 'gamma': 0.0031000000000000003}\n",
      "0.793 (+/-0.019) for {'kernel': 'rbf', 'C': 50, 'gamma': 0.0036000000000000003}\n",
      "0.784 (+/-0.007) for {'kernel': 'rbf', 'C': 50, 'gamma': 0.0041000000000000003}\n",
      "0.778 (+/-0.015) for {'kernel': 'rbf', 'C': 50, 'gamma': 0.0046000000000000008}\n",
      "0.775 (+/-0.011) for {'kernel': 'rbf', 'C': 50, 'gamma': 0.0051000000000000004}\n",
      "0.768 (+/-0.028) for {'kernel': 'rbf', 'C': 50, 'gamma': 0.0056000000000000008}\n",
      "0.772 (+/-0.028) for {'kernel': 'rbf', 'C': 50, 'gamma': 0.0061000000000000004}\n",
      "0.770 (+/-0.031) for {'kernel': 'rbf', 'C': 50, 'gamma': 0.0066000000000000008}\n",
      "0.773 (+/-0.025) for {'kernel': 'rbf', 'C': 50, 'gamma': 0.0071000000000000004}\n",
      "0.769 (+/-0.023) for {'kernel': 'rbf', 'C': 50, 'gamma': 0.0076000000000000009}\n",
      "0.769 (+/-0.007) for {'kernel': 'rbf', 'C': 50, 'gamma': 0.0081000000000000013}\n",
      "0.767 (+/-0.004) for {'kernel': 'rbf', 'C': 50, 'gamma': 0.0086}\n",
      "0.763 (+/-0.009) for {'kernel': 'rbf', 'C': 50, 'gamma': 0.0091000000000000004}\n",
      "0.763 (+/-0.013) for {'kernel': 'rbf', 'C': 50, 'gamma': 0.0096000000000000009}\n",
      "0.735 (+/-0.034) for {'kernel': 'rbf', 'C': 60, 'gamma': 0.0001}\n",
      "0.782 (+/-0.021) for {'kernel': 'rbf', 'C': 60, 'gamma': 0.00060000000000000006}\n",
      "0.780 (+/-0.041) for {'kernel': 'rbf', 'C': 60, 'gamma': 0.0011000000000000001}\n",
      "0.785 (+/-0.034) for {'kernel': 'rbf', 'C': 60, 'gamma': 0.0016000000000000001}\n",
      "0.803 (+/-0.014) for {'kernel': 'rbf', 'C': 60, 'gamma': 0.0021000000000000003}\n",
      "0.800 (+/-0.013) for {'kernel': 'rbf', 'C': 60, 'gamma': 0.0026000000000000003}\n",
      "0.795 (+/-0.020) for {'kernel': 'rbf', 'C': 60, 'gamma': 0.0031000000000000003}\n",
      "0.789 (+/-0.013) for {'kernel': 'rbf', 'C': 60, 'gamma': 0.0036000000000000003}\n",
      "0.778 (+/-0.009) for {'kernel': 'rbf', 'C': 60, 'gamma': 0.0041000000000000003}\n",
      "0.777 (+/-0.004) for {'kernel': 'rbf', 'C': 60, 'gamma': 0.0046000000000000008}\n",
      "0.774 (+/-0.020) for {'kernel': 'rbf', 'C': 60, 'gamma': 0.0051000000000000004}\n",
      "0.769 (+/-0.028) for {'kernel': 'rbf', 'C': 60, 'gamma': 0.0056000000000000008}\n",
      "0.772 (+/-0.032) for {'kernel': 'rbf', 'C': 60, 'gamma': 0.0061000000000000004}\n",
      "0.774 (+/-0.021) for {'kernel': 'rbf', 'C': 60, 'gamma': 0.0066000000000000008}\n",
      "0.770 (+/-0.025) for {'kernel': 'rbf', 'C': 60, 'gamma': 0.0071000000000000004}\n",
      "0.769 (+/-0.007) for {'kernel': 'rbf', 'C': 60, 'gamma': 0.0076000000000000009}\n",
      "0.768 (+/-0.016) for {'kernel': 'rbf', 'C': 60, 'gamma': 0.0081000000000000013}\n",
      "0.765 (+/-0.013) for {'kernel': 'rbf', 'C': 60, 'gamma': 0.0086}\n",
      "0.760 (+/-0.006) for {'kernel': 'rbf', 'C': 60, 'gamma': 0.0091000000000000004}\n",
      "0.757 (+/-0.006) for {'kernel': 'rbf', 'C': 60, 'gamma': 0.0096000000000000009}\n",
      "0.744 (+/-0.041) for {'kernel': 'rbf', 'C': 70, 'gamma': 0.0001}\n",
      "0.784 (+/-0.025) for {'kernel': 'rbf', 'C': 70, 'gamma': 0.00060000000000000006}\n",
      "0.782 (+/-0.039) for {'kernel': 'rbf', 'C': 70, 'gamma': 0.0011000000000000001}\n",
      "0.793 (+/-0.035) for {'kernel': 'rbf', 'C': 70, 'gamma': 0.0016000000000000001}\n",
      "0.801 (+/-0.016) for {'kernel': 'rbf', 'C': 70, 'gamma': 0.0021000000000000003}\n",
      "0.803 (+/-0.015) for {'kernel': 'rbf', 'C': 70, 'gamma': 0.0026000000000000003}\n",
      "0.794 (+/-0.016) for {'kernel': 'rbf', 'C': 70, 'gamma': 0.0031000000000000003}\n",
      "0.783 (+/-0.016) for {'kernel': 'rbf', 'C': 70, 'gamma': 0.0036000000000000003}\n",
      "0.783 (+/-0.006) for {'kernel': 'rbf', 'C': 70, 'gamma': 0.0041000000000000003}\n",
      "0.777 (+/-0.015) for {'kernel': 'rbf', 'C': 70, 'gamma': 0.0046000000000000008}\n",
      "0.777 (+/-0.028) for {'kernel': 'rbf', 'C': 70, 'gamma': 0.0051000000000000004}\n",
      "0.770 (+/-0.041) for {'kernel': 'rbf', 'C': 70, 'gamma': 0.0056000000000000008}\n",
      "0.770 (+/-0.037) for {'kernel': 'rbf', 'C': 70, 'gamma': 0.0061000000000000004}\n",
      "0.770 (+/-0.025) for {'kernel': 'rbf', 'C': 70, 'gamma': 0.0066000000000000008}\n",
      "0.769 (+/-0.025) for {'kernel': 'rbf', 'C': 70, 'gamma': 0.0071000000000000004}\n",
      "0.767 (+/-0.025) for {'kernel': 'rbf', 'C': 70, 'gamma': 0.0076000000000000009}\n",
      "0.770 (+/-0.009) for {'kernel': 'rbf', 'C': 70, 'gamma': 0.0081000000000000013}\n",
      "0.764 (+/-0.012) for {'kernel': 'rbf', 'C': 70, 'gamma': 0.0086}\n",
      "0.758 (+/-0.007) for {'kernel': 'rbf', 'C': 70, 'gamma': 0.0091000000000000004}\n",
      "0.762 (+/-0.013) for {'kernel': 'rbf', 'C': 70, 'gamma': 0.0096000000000000009}\n",
      "0.757 (+/-0.056) for {'kernel': 'rbf', 'C': 80, 'gamma': 0.0001}\n",
      "0.788 (+/-0.025) for {'kernel': 'rbf', 'C': 80, 'gamma': 0.00060000000000000006}\n",
      "0.787 (+/-0.038) for {'kernel': 'rbf', 'C': 80, 'gamma': 0.0011000000000000001}\n",
      "0.799 (+/-0.030) for {'kernel': 'rbf', 'C': 80, 'gamma': 0.0016000000000000001}\n",
      "0.808 (+/-0.025) for {'kernel': 'rbf', 'C': 80, 'gamma': 0.0021000000000000003}\n",
      "0.803 (+/-0.015) for {'kernel': 'rbf', 'C': 80, 'gamma': 0.0026000000000000003}\n",
      "0.794 (+/-0.011) for {'kernel': 'rbf', 'C': 80, 'gamma': 0.0031000000000000003}\n",
      "0.780 (+/-0.007) for {'kernel': 'rbf', 'C': 80, 'gamma': 0.0036000000000000003}\n",
      "0.780 (+/-0.013) for {'kernel': 'rbf', 'C': 80, 'gamma': 0.0041000000000000003}\n",
      "0.775 (+/-0.022) for {'kernel': 'rbf', 'C': 80, 'gamma': 0.0046000000000000008}\n",
      "0.777 (+/-0.034) for {'kernel': 'rbf', 'C': 80, 'gamma': 0.0051000000000000004}\n",
      "0.772 (+/-0.043) for {'kernel': 'rbf', 'C': 80, 'gamma': 0.0056000000000000008}\n",
      "0.774 (+/-0.036) for {'kernel': 'rbf', 'C': 80, 'gamma': 0.0061000000000000004}\n",
      "0.774 (+/-0.025) for {'kernel': 'rbf', 'C': 80, 'gamma': 0.0066000000000000008}\n",
      "0.770 (+/-0.025) for {'kernel': 'rbf', 'C': 80, 'gamma': 0.0071000000000000004}\n",
      "0.770 (+/-0.015) for {'kernel': 'rbf', 'C': 80, 'gamma': 0.0076000000000000009}\n",
      "0.768 (+/-0.011) for {'kernel': 'rbf', 'C': 80, 'gamma': 0.0081000000000000013}\n",
      "0.760 (+/-0.016) for {'kernel': 'rbf', 'C': 80, 'gamma': 0.0086}\n",
      "0.762 (+/-0.007) for {'kernel': 'rbf', 'C': 80, 'gamma': 0.0091000000000000004}\n",
      "0.764 (+/-0.016) for {'kernel': 'rbf', 'C': 80, 'gamma': 0.0096000000000000009}\n",
      "0.774 (+/-0.078) for {'kernel': 'rbf', 'C': 90, 'gamma': 0.0001}\n",
      "0.793 (+/-0.030) for {'kernel': 'rbf', 'C': 90, 'gamma': 0.00060000000000000006}\n",
      "0.793 (+/-0.037) for {'kernel': 'rbf', 'C': 90, 'gamma': 0.0011000000000000001}\n",
      "0.803 (+/-0.030) for {'kernel': 'rbf', 'C': 90, 'gamma': 0.0016000000000000001}\n",
      "0.809 (+/-0.022) for {'kernel': 'rbf', 'C': 90, 'gamma': 0.0021000000000000003}\n",
      "0.799 (+/-0.028) for {'kernel': 'rbf', 'C': 90, 'gamma': 0.0026000000000000003}\n",
      "0.794 (+/-0.016) for {'kernel': 'rbf', 'C': 90, 'gamma': 0.0031000000000000003}\n",
      "0.784 (+/-0.015) for {'kernel': 'rbf', 'C': 90, 'gamma': 0.0036000000000000003}\n",
      "0.775 (+/-0.018) for {'kernel': 'rbf', 'C': 90, 'gamma': 0.0041000000000000003}\n",
      "0.774 (+/-0.020) for {'kernel': 'rbf', 'C': 90, 'gamma': 0.0046000000000000008}\n",
      "0.777 (+/-0.029) for {'kernel': 'rbf', 'C': 90, 'gamma': 0.0051000000000000004}\n",
      "0.772 (+/-0.037) for {'kernel': 'rbf', 'C': 90, 'gamma': 0.0056000000000000008}\n",
      "0.772 (+/-0.032) for {'kernel': 'rbf', 'C': 90, 'gamma': 0.0061000000000000004}\n",
      "0.769 (+/-0.018) for {'kernel': 'rbf', 'C': 90, 'gamma': 0.0066000000000000008}\n",
      "0.772 (+/-0.012) for {'kernel': 'rbf', 'C': 90, 'gamma': 0.0071000000000000004}\n",
      "0.770 (+/-0.013) for {'kernel': 'rbf', 'C': 90, 'gamma': 0.0076000000000000009}\n",
      "0.767 (+/-0.020) for {'kernel': 'rbf', 'C': 90, 'gamma': 0.0081000000000000013}\n",
      "0.762 (+/-0.018) for {'kernel': 'rbf', 'C': 90, 'gamma': 0.0086}\n",
      "0.762 (+/-0.014) for {'kernel': 'rbf', 'C': 90, 'gamma': 0.0091000000000000004}\n",
      "0.765 (+/-0.021) for {'kernel': 'rbf', 'C': 90, 'gamma': 0.0096000000000000009}\n",
      "0.778 (+/-0.083) for {'kernel': 'rbf', 'C': 100, 'gamma': 0.0001}\n",
      "0.793 (+/-0.030) for {'kernel': 'rbf', 'C': 100, 'gamma': 0.00060000000000000006}\n",
      "0.790 (+/-0.040) for {'kernel': 'rbf', 'C': 100, 'gamma': 0.0011000000000000001}\n",
      "0.805 (+/-0.027) for {'kernel': 'rbf', 'C': 100, 'gamma': 0.0016000000000000001}\n",
      "0.806 (+/-0.028) for {'kernel': 'rbf', 'C': 100, 'gamma': 0.0021000000000000003}\n",
      "0.797 (+/-0.025) for {'kernel': 'rbf', 'C': 100, 'gamma': 0.0026000000000000003}\n",
      "0.792 (+/-0.025) for {'kernel': 'rbf', 'C': 100, 'gamma': 0.0031000000000000003}\n",
      "0.783 (+/-0.018) for {'kernel': 'rbf', 'C': 100, 'gamma': 0.0036000000000000003}\n",
      "0.777 (+/-0.021) for {'kernel': 'rbf', 'C': 100, 'gamma': 0.0041000000000000003}\n",
      "0.779 (+/-0.021) for {'kernel': 'rbf', 'C': 100, 'gamma': 0.0046000000000000008}\n",
      "0.777 (+/-0.029) for {'kernel': 'rbf', 'C': 100, 'gamma': 0.0051000000000000004}\n",
      "0.772 (+/-0.037) for {'kernel': 'rbf', 'C': 100, 'gamma': 0.0056000000000000008}\n",
      "0.770 (+/-0.031) for {'kernel': 'rbf', 'C': 100, 'gamma': 0.0061000000000000004}\n",
      "0.773 (+/-0.019) for {'kernel': 'rbf', 'C': 100, 'gamma': 0.0066000000000000008}\n",
      "0.770 (+/-0.019) for {'kernel': 'rbf', 'C': 100, 'gamma': 0.0071000000000000004}\n",
      "0.770 (+/-0.015) for {'kernel': 'rbf', 'C': 100, 'gamma': 0.0076000000000000009}\n",
      "0.767 (+/-0.020) for {'kernel': 'rbf', 'C': 100, 'gamma': 0.0081000000000000013}\n",
      "0.768 (+/-0.011) for {'kernel': 'rbf', 'C': 100, 'gamma': 0.0086}\n",
      "0.764 (+/-0.018) for {'kernel': 'rbf', 'C': 100, 'gamma': 0.0091000000000000004}\n",
      "0.763 (+/-0.029) for {'kernel': 'rbf', 'C': 100, 'gamma': 0.0096000000000000009}\n",
      "0.783 (+/-0.050) for {'kernel': 'rbf', 'C': 110, 'gamma': 0.0001}\n",
      "0.795 (+/-0.034) for {'kernel': 'rbf', 'C': 110, 'gamma': 0.00060000000000000006}\n",
      "0.792 (+/-0.036) for {'kernel': 'rbf', 'C': 110, 'gamma': 0.0011000000000000001}\n",
      "0.806 (+/-0.025) for {'kernel': 'rbf', 'C': 110, 'gamma': 0.0016000000000000001}\n",
      "0.805 (+/-0.031) for {'kernel': 'rbf', 'C': 110, 'gamma': 0.0021000000000000003}\n",
      "0.795 (+/-0.019) for {'kernel': 'rbf', 'C': 110, 'gamma': 0.0026000000000000003}\n",
      "0.790 (+/-0.022) for {'kernel': 'rbf', 'C': 110, 'gamma': 0.0031000000000000003}\n",
      "0.780 (+/-0.015) for {'kernel': 'rbf', 'C': 110, 'gamma': 0.0036000000000000003}\n",
      "0.778 (+/-0.028) for {'kernel': 'rbf', 'C': 110, 'gamma': 0.0041000000000000003}\n",
      "0.775 (+/-0.021) for {'kernel': 'rbf', 'C': 110, 'gamma': 0.0046000000000000008}\n",
      "0.778 (+/-0.025) for {'kernel': 'rbf', 'C': 110, 'gamma': 0.0051000000000000004}\n",
      "0.772 (+/-0.027) for {'kernel': 'rbf', 'C': 110, 'gamma': 0.0056000000000000008}\n",
      "0.769 (+/-0.025) for {'kernel': 'rbf', 'C': 110, 'gamma': 0.0061000000000000004}\n",
      "0.773 (+/-0.021) for {'kernel': 'rbf', 'C': 110, 'gamma': 0.0066000000000000008}\n",
      "0.770 (+/-0.021) for {'kernel': 'rbf', 'C': 110, 'gamma': 0.0071000000000000004}\n",
      "0.769 (+/-0.019) for {'kernel': 'rbf', 'C': 110, 'gamma': 0.0076000000000000009}\n",
      "0.768 (+/-0.016) for {'kernel': 'rbf', 'C': 110, 'gamma': 0.0081000000000000013}\n",
      "0.765 (+/-0.007) for {'kernel': 'rbf', 'C': 110, 'gamma': 0.0086}\n",
      "0.765 (+/-0.020) for {'kernel': 'rbf', 'C': 110, 'gamma': 0.0091000000000000004}\n",
      "0.763 (+/-0.023) for {'kernel': 'rbf', 'C': 110, 'gamma': 0.0096000000000000009}\n",
      "0.787 (+/-0.044) for {'kernel': 'rbf', 'C': 120, 'gamma': 0.0001}\n",
      "0.794 (+/-0.038) for {'kernel': 'rbf', 'C': 120, 'gamma': 0.00060000000000000006}\n",
      "0.793 (+/-0.045) for {'kernel': 'rbf', 'C': 120, 'gamma': 0.0011000000000000001}\n",
      "0.806 (+/-0.025) for {'kernel': 'rbf', 'C': 120, 'gamma': 0.0016000000000000001}\n",
      "0.804 (+/-0.031) for {'kernel': 'rbf', 'C': 120, 'gamma': 0.0021000000000000003}\n",
      "0.795 (+/-0.019) for {'kernel': 'rbf', 'C': 120, 'gamma': 0.0026000000000000003}\n",
      "0.787 (+/-0.021) for {'kernel': 'rbf', 'C': 120, 'gamma': 0.0031000000000000003}\n",
      "0.779 (+/-0.022) for {'kernel': 'rbf', 'C': 120, 'gamma': 0.0036000000000000003}\n",
      "0.779 (+/-0.028) for {'kernel': 'rbf', 'C': 120, 'gamma': 0.0041000000000000003}\n",
      "0.777 (+/-0.023) for {'kernel': 'rbf', 'C': 120, 'gamma': 0.0046000000000000008}\n",
      "0.777 (+/-0.028) for {'kernel': 'rbf', 'C': 120, 'gamma': 0.0051000000000000004}\n",
      "0.769 (+/-0.023) for {'kernel': 'rbf', 'C': 120, 'gamma': 0.0056000000000000008}\n",
      "0.770 (+/-0.025) for {'kernel': 'rbf', 'C': 120, 'gamma': 0.0061000000000000004}\n",
      "0.773 (+/-0.025) for {'kernel': 'rbf', 'C': 120, 'gamma': 0.0066000000000000008}\n",
      "0.769 (+/-0.019) for {'kernel': 'rbf', 'C': 120, 'gamma': 0.0071000000000000004}\n",
      "0.769 (+/-0.023) for {'kernel': 'rbf', 'C': 120, 'gamma': 0.0076000000000000009}\n",
      "0.767 (+/-0.014) for {'kernel': 'rbf', 'C': 120, 'gamma': 0.0081000000000000013}\n",
      "0.767 (+/-0.015) for {'kernel': 'rbf', 'C': 120, 'gamma': 0.0086}\n",
      "0.764 (+/-0.021) for {'kernel': 'rbf', 'C': 120, 'gamma': 0.0091000000000000004}\n",
      "0.764 (+/-0.027) for {'kernel': 'rbf', 'C': 120, 'gamma': 0.0096000000000000009}\n",
      "0.797 (+/-0.034) for {'kernel': 'rbf', 'C': 130, 'gamma': 0.0001}\n",
      "0.795 (+/-0.039) for {'kernel': 'rbf', 'C': 130, 'gamma': 0.00060000000000000006}\n",
      "0.790 (+/-0.037) for {'kernel': 'rbf', 'C': 130, 'gamma': 0.0011000000000000001}\n",
      "0.808 (+/-0.023) for {'kernel': 'rbf', 'C': 130, 'gamma': 0.0016000000000000001}\n",
      "0.803 (+/-0.034) for {'kernel': 'rbf', 'C': 130, 'gamma': 0.0021000000000000003}\n",
      "0.794 (+/-0.016) for {'kernel': 'rbf', 'C': 130, 'gamma': 0.0026000000000000003}\n",
      "0.784 (+/-0.021) for {'kernel': 'rbf', 'C': 130, 'gamma': 0.0031000000000000003}\n",
      "0.775 (+/-0.028) for {'kernel': 'rbf', 'C': 130, 'gamma': 0.0036000000000000003}\n",
      "0.782 (+/-0.030) for {'kernel': 'rbf', 'C': 130, 'gamma': 0.0041000000000000003}\n",
      "0.778 (+/-0.025) for {'kernel': 'rbf', 'C': 130, 'gamma': 0.0046000000000000008}\n",
      "0.774 (+/-0.021) for {'kernel': 'rbf', 'C': 130, 'gamma': 0.0051000000000000004}\n",
      "0.765 (+/-0.021) for {'kernel': 'rbf', 'C': 130, 'gamma': 0.0056000000000000008}\n",
      "0.767 (+/-0.025) for {'kernel': 'rbf', 'C': 130, 'gamma': 0.0061000000000000004}\n",
      "0.773 (+/-0.019) for {'kernel': 'rbf', 'C': 130, 'gamma': 0.0066000000000000008}\n",
      "0.769 (+/-0.019) for {'kernel': 'rbf', 'C': 130, 'gamma': 0.0071000000000000004}\n",
      "0.768 (+/-0.016) for {'kernel': 'rbf', 'C': 130, 'gamma': 0.0076000000000000009}\n",
      "0.764 (+/-0.022) for {'kernel': 'rbf', 'C': 130, 'gamma': 0.0081000000000000013}\n",
      "0.769 (+/-0.015) for {'kernel': 'rbf', 'C': 130, 'gamma': 0.0086}\n",
      "0.764 (+/-0.027) for {'kernel': 'rbf', 'C': 130, 'gamma': 0.0091000000000000004}\n",
      "0.765 (+/-0.025) for {'kernel': 'rbf', 'C': 130, 'gamma': 0.0096000000000000009}\n",
      "0.799 (+/-0.037) for {'kernel': 'rbf', 'C': 140, 'gamma': 0.0001}\n",
      "0.794 (+/-0.037) for {'kernel': 'rbf', 'C': 140, 'gamma': 0.00060000000000000006}\n",
      "0.792 (+/-0.035) for {'kernel': 'rbf', 'C': 140, 'gamma': 0.0011000000000000001}\n",
      "0.806 (+/-0.020) for {'kernel': 'rbf', 'C': 140, 'gamma': 0.0016000000000000001}\n",
      "0.803 (+/-0.034) for {'kernel': 'rbf', 'C': 140, 'gamma': 0.0021000000000000003}\n",
      "0.792 (+/-0.018) for {'kernel': 'rbf', 'C': 140, 'gamma': 0.0026000000000000003}\n",
      "0.782 (+/-0.025) for {'kernel': 'rbf', 'C': 140, 'gamma': 0.0031000000000000003}\n",
      "0.773 (+/-0.030) for {'kernel': 'rbf', 'C': 140, 'gamma': 0.0036000000000000003}\n",
      "0.779 (+/-0.027) for {'kernel': 'rbf', 'C': 140, 'gamma': 0.0041000000000000003}\n",
      "0.778 (+/-0.025) for {'kernel': 'rbf', 'C': 140, 'gamma': 0.0046000000000000008}\n",
      "0.770 (+/-0.028) for {'kernel': 'rbf', 'C': 140, 'gamma': 0.0051000000000000004}\n",
      "0.765 (+/-0.019) for {'kernel': 'rbf', 'C': 140, 'gamma': 0.0056000000000000008}\n",
      "0.768 (+/-0.027) for {'kernel': 'rbf', 'C': 140, 'gamma': 0.0061000000000000004}\n",
      "0.772 (+/-0.016) for {'kernel': 'rbf', 'C': 140, 'gamma': 0.0066000000000000008}\n",
      "0.772 (+/-0.016) for {'kernel': 'rbf', 'C': 140, 'gamma': 0.0071000000000000004}\n",
      "0.767 (+/-0.020) for {'kernel': 'rbf', 'C': 140, 'gamma': 0.0076000000000000009}\n",
      "0.764 (+/-0.022) for {'kernel': 'rbf', 'C': 140, 'gamma': 0.0081000000000000013}\n",
      "0.768 (+/-0.016) for {'kernel': 'rbf', 'C': 140, 'gamma': 0.0086}\n",
      "0.767 (+/-0.029) for {'kernel': 'rbf', 'C': 140, 'gamma': 0.0091000000000000004}\n",
      "0.764 (+/-0.028) for {'kernel': 'rbf', 'C': 140, 'gamma': 0.0096000000000000009}\n",
      "0.797 (+/-0.025) for {'kernel': 'rbf', 'C': 150, 'gamma': 0.0001}\n",
      "0.794 (+/-0.037) for {'kernel': 'rbf', 'C': 150, 'gamma': 0.00060000000000000006}\n",
      "0.793 (+/-0.034) for {'kernel': 'rbf', 'C': 150, 'gamma': 0.0011000000000000001}\n",
      "0.808 (+/-0.018) for {'kernel': 'rbf', 'C': 150, 'gamma': 0.0016000000000000001}\n",
      "0.801 (+/-0.031) for {'kernel': 'rbf', 'C': 150, 'gamma': 0.0021000000000000003}\n",
      "0.793 (+/-0.020) for {'kernel': 'rbf', 'C': 150, 'gamma': 0.0026000000000000003}\n",
      "0.780 (+/-0.025) for {'kernel': 'rbf', 'C': 150, 'gamma': 0.0031000000000000003}\n",
      "0.774 (+/-0.034) for {'kernel': 'rbf', 'C': 150, 'gamma': 0.0036000000000000003}\n",
      "0.783 (+/-0.027) for {'kernel': 'rbf', 'C': 150, 'gamma': 0.0041000000000000003}\n",
      "0.778 (+/-0.025) for {'kernel': 'rbf', 'C': 150, 'gamma': 0.0046000000000000008}\n",
      "0.767 (+/-0.021) for {'kernel': 'rbf', 'C': 150, 'gamma': 0.0051000000000000004}\n",
      "0.765 (+/-0.019) for {'kernel': 'rbf', 'C': 150, 'gamma': 0.0056000000000000008}\n",
      "0.769 (+/-0.023) for {'kernel': 'rbf', 'C': 150, 'gamma': 0.0061000000000000004}\n",
      "0.772 (+/-0.016) for {'kernel': 'rbf', 'C': 150, 'gamma': 0.0066000000000000008}\n",
      "0.773 (+/-0.013) for {'kernel': 'rbf', 'C': 150, 'gamma': 0.0071000000000000004}\n",
      "0.770 (+/-0.020) for {'kernel': 'rbf', 'C': 150, 'gamma': 0.0076000000000000009}\n",
      "0.768 (+/-0.018) for {'kernel': 'rbf', 'C': 150, 'gamma': 0.0081000000000000013}\n",
      "0.769 (+/-0.020) for {'kernel': 'rbf', 'C': 150, 'gamma': 0.0086}\n",
      "0.765 (+/-0.025) for {'kernel': 'rbf', 'C': 150, 'gamma': 0.0091000000000000004}\n",
      "0.762 (+/-0.034) for {'kernel': 'rbf', 'C': 150, 'gamma': 0.0096000000000000009}\n",
      "0.789 (+/-0.023) for {'kernel': 'rbf', 'C': 160, 'gamma': 0.0001}\n",
      "0.797 (+/-0.036) for {'kernel': 'rbf', 'C': 160, 'gamma': 0.00060000000000000006}\n",
      "0.793 (+/-0.034) for {'kernel': 'rbf', 'C': 160, 'gamma': 0.0011000000000000001}\n",
      "0.806 (+/-0.020) for {'kernel': 'rbf', 'C': 160, 'gamma': 0.0016000000000000001}\n",
      "0.800 (+/-0.021) for {'kernel': 'rbf', 'C': 160, 'gamma': 0.0021000000000000003}\n",
      "0.793 (+/-0.020) for {'kernel': 'rbf', 'C': 160, 'gamma': 0.0026000000000000003}\n",
      "0.780 (+/-0.028) for {'kernel': 'rbf', 'C': 160, 'gamma': 0.0031000000000000003}\n",
      "0.775 (+/-0.032) for {'kernel': 'rbf', 'C': 160, 'gamma': 0.0036000000000000003}\n",
      "0.778 (+/-0.028) for {'kernel': 'rbf', 'C': 160, 'gamma': 0.0041000000000000003}\n",
      "0.775 (+/-0.027) for {'kernel': 'rbf', 'C': 160, 'gamma': 0.0046000000000000008}\n",
      "0.767 (+/-0.014) for {'kernel': 'rbf', 'C': 160, 'gamma': 0.0051000000000000004}\n",
      "0.765 (+/-0.029) for {'kernel': 'rbf', 'C': 160, 'gamma': 0.0056000000000000008}\n",
      "0.770 (+/-0.020) for {'kernel': 'rbf', 'C': 160, 'gamma': 0.0061000000000000004}\n",
      "0.774 (+/-0.014) for {'kernel': 'rbf', 'C': 160, 'gamma': 0.0066000000000000008}\n",
      "0.773 (+/-0.007) for {'kernel': 'rbf', 'C': 160, 'gamma': 0.0071000000000000004}\n",
      "0.769 (+/-0.013) for {'kernel': 'rbf', 'C': 160, 'gamma': 0.0076000000000000009}\n",
      "0.768 (+/-0.018) for {'kernel': 'rbf', 'C': 160, 'gamma': 0.0081000000000000013}\n",
      "0.770 (+/-0.023) for {'kernel': 'rbf', 'C': 160, 'gamma': 0.0086}\n",
      "0.764 (+/-0.022) for {'kernel': 'rbf', 'C': 160, 'gamma': 0.0091000000000000004}\n",
      "0.762 (+/-0.034) for {'kernel': 'rbf', 'C': 160, 'gamma': 0.0096000000000000009}\n",
      "0.785 (+/-0.007) for {'kernel': 'rbf', 'C': 170, 'gamma': 0.0001}\n",
      "0.797 (+/-0.036) for {'kernel': 'rbf', 'C': 170, 'gamma': 0.00060000000000000006}\n",
      "0.793 (+/-0.034) for {'kernel': 'rbf', 'C': 170, 'gamma': 0.0011000000000000001}\n",
      "0.805 (+/-0.027) for {'kernel': 'rbf', 'C': 170, 'gamma': 0.0016000000000000001}\n",
      "0.799 (+/-0.021) for {'kernel': 'rbf', 'C': 170, 'gamma': 0.0021000000000000003}\n",
      "0.793 (+/-0.020) for {'kernel': 'rbf', 'C': 170, 'gamma': 0.0026000000000000003}\n",
      "0.778 (+/-0.029) for {'kernel': 'rbf', 'C': 170, 'gamma': 0.0031000000000000003}\n",
      "0.774 (+/-0.034) for {'kernel': 'rbf', 'C': 170, 'gamma': 0.0036000000000000003}\n",
      "0.778 (+/-0.025) for {'kernel': 'rbf', 'C': 170, 'gamma': 0.0041000000000000003}\n",
      "0.774 (+/-0.025) for {'kernel': 'rbf', 'C': 170, 'gamma': 0.0046000000000000008}\n",
      "0.763 (+/-0.020) for {'kernel': 'rbf', 'C': 170, 'gamma': 0.0051000000000000004}\n",
      "0.765 (+/-0.023) for {'kernel': 'rbf', 'C': 170, 'gamma': 0.0056000000000000008}\n",
      "0.772 (+/-0.022) for {'kernel': 'rbf', 'C': 170, 'gamma': 0.0061000000000000004}\n",
      "0.773 (+/-0.004) for {'kernel': 'rbf', 'C': 170, 'gamma': 0.0066000000000000008}\n",
      "0.772 (+/-0.011) for {'kernel': 'rbf', 'C': 170, 'gamma': 0.0071000000000000004}\n",
      "0.770 (+/-0.015) for {'kernel': 'rbf', 'C': 170, 'gamma': 0.0076000000000000009}\n",
      "0.767 (+/-0.019) for {'kernel': 'rbf', 'C': 170, 'gamma': 0.0081000000000000013}\n",
      "0.768 (+/-0.027) for {'kernel': 'rbf', 'C': 170, 'gamma': 0.0086}\n",
      "0.762 (+/-0.025) for {'kernel': 'rbf', 'C': 170, 'gamma': 0.0091000000000000004}\n",
      "0.760 (+/-0.034) for {'kernel': 'rbf', 'C': 170, 'gamma': 0.0096000000000000009}\n",
      "0.784 (+/-0.014) for {'kernel': 'rbf', 'C': 180, 'gamma': 0.0001}\n",
      "0.798 (+/-0.032) for {'kernel': 'rbf', 'C': 180, 'gamma': 0.00060000000000000006}\n",
      "0.793 (+/-0.034) for {'kernel': 'rbf', 'C': 180, 'gamma': 0.0011000000000000001}\n",
      "0.805 (+/-0.027) for {'kernel': 'rbf', 'C': 180, 'gamma': 0.0016000000000000001}\n",
      "0.797 (+/-0.019) for {'kernel': 'rbf', 'C': 180, 'gamma': 0.0021000000000000003}\n",
      "0.798 (+/-0.016) for {'kernel': 'rbf', 'C': 180, 'gamma': 0.0026000000000000003}\n",
      "0.777 (+/-0.025) for {'kernel': 'rbf', 'C': 180, 'gamma': 0.0031000000000000003}\n",
      "0.774 (+/-0.029) for {'kernel': 'rbf', 'C': 180, 'gamma': 0.0036000000000000003}\n",
      "0.778 (+/-0.025) for {'kernel': 'rbf', 'C': 180, 'gamma': 0.0041000000000000003}\n",
      "0.773 (+/-0.023) for {'kernel': 'rbf', 'C': 180, 'gamma': 0.0046000000000000008}\n",
      "0.763 (+/-0.014) for {'kernel': 'rbf', 'C': 180, 'gamma': 0.0051000000000000004}\n",
      "0.768 (+/-0.022) for {'kernel': 'rbf', 'C': 180, 'gamma': 0.0056000000000000008}\n",
      "0.772 (+/-0.016) for {'kernel': 'rbf', 'C': 180, 'gamma': 0.0061000000000000004}\n",
      "0.773 (+/-0.004) for {'kernel': 'rbf', 'C': 180, 'gamma': 0.0066000000000000008}\n",
      "0.770 (+/-0.009) for {'kernel': 'rbf', 'C': 180, 'gamma': 0.0071000000000000004}\n",
      "0.769 (+/-0.015) for {'kernel': 'rbf', 'C': 180, 'gamma': 0.0076000000000000009}\n",
      "0.768 (+/-0.022) for {'kernel': 'rbf', 'C': 180, 'gamma': 0.0081000000000000013}\n",
      "0.768 (+/-0.027) for {'kernel': 'rbf', 'C': 180, 'gamma': 0.0086}\n",
      "0.763 (+/-0.031) for {'kernel': 'rbf', 'C': 180, 'gamma': 0.0091000000000000004}\n",
      "0.760 (+/-0.032) for {'kernel': 'rbf', 'C': 180, 'gamma': 0.0096000000000000009}\n",
      "0.780 (+/-0.013) for {'kernel': 'rbf', 'C': 190, 'gamma': 0.0001}\n",
      "0.797 (+/-0.031) for {'kernel': 'rbf', 'C': 190, 'gamma': 0.00060000000000000006}\n",
      "0.792 (+/-0.037) for {'kernel': 'rbf', 'C': 190, 'gamma': 0.0011000000000000001}\n",
      "0.806 (+/-0.030) for {'kernel': 'rbf', 'C': 190, 'gamma': 0.0016000000000000001}\n",
      "0.799 (+/-0.014) for {'kernel': 'rbf', 'C': 190, 'gamma': 0.0021000000000000003}\n",
      "0.794 (+/-0.016) for {'kernel': 'rbf', 'C': 190, 'gamma': 0.0026000000000000003}\n",
      "0.775 (+/-0.027) for {'kernel': 'rbf', 'C': 190, 'gamma': 0.0031000000000000003}\n",
      "0.775 (+/-0.028) for {'kernel': 'rbf', 'C': 190, 'gamma': 0.0036000000000000003}\n",
      "0.779 (+/-0.022) for {'kernel': 'rbf', 'C': 190, 'gamma': 0.0041000000000000003}\n",
      "0.769 (+/-0.028) for {'kernel': 'rbf', 'C': 190, 'gamma': 0.0046000000000000008}\n",
      "0.762 (+/-0.015) for {'kernel': 'rbf', 'C': 190, 'gamma': 0.0051000000000000004}\n",
      "0.768 (+/-0.021) for {'kernel': 'rbf', 'C': 190, 'gamma': 0.0056000000000000008}\n",
      "0.775 (+/-0.016) for {'kernel': 'rbf', 'C': 190, 'gamma': 0.0061000000000000004}\n",
      "0.773 (+/-0.004) for {'kernel': 'rbf', 'C': 190, 'gamma': 0.0066000000000000008}\n",
      "0.770 (+/-0.009) for {'kernel': 'rbf', 'C': 190, 'gamma': 0.0071000000000000004}\n",
      "0.770 (+/-0.015) for {'kernel': 'rbf', 'C': 190, 'gamma': 0.0076000000000000009}\n",
      "0.765 (+/-0.025) for {'kernel': 'rbf', 'C': 190, 'gamma': 0.0081000000000000013}\n",
      "0.768 (+/-0.028) for {'kernel': 'rbf', 'C': 190, 'gamma': 0.0086}\n",
      "0.762 (+/-0.034) for {'kernel': 'rbf', 'C': 190, 'gamma': 0.0091000000000000004}\n",
      "0.760 (+/-0.028) for {'kernel': 'rbf', 'C': 190, 'gamma': 0.0096000000000000009}\n",
      "()\n",
      "Detailed classification report:\n",
      "()\n",
      "The model is trained on the full development set.\n",
      "The scores are computed on the full evaluation set.\n",
      "()\n",
      "             precision    recall  f1-score   support\n",
      "\n",
      "          0       0.77      0.84      0.80        51\n",
      "          1       0.76      0.67      0.71        39\n",
      "\n",
      "avg / total       0.77      0.77      0.76        90\n",
      "\n",
      "()\n"
     ]
    }
   ],
   "source": [
    "# gridsearch with SVM\n",
    "tuned_parameters = {'C': np.arange(10, 200, 10), 'gamma': np.arange(1e-4, 1e-2, 5e-4), 'kernel': ['rbf']}\n",
    "svm_clf = gridsearchcv_wrapper(svm.SVC(), tuned_parameters, train_df[features], train_df[label])\n",
    "test_df[label] = svm_clf.predict(test_df[features])\n",
    "test_df[['PassengerId', 'Survived']].to_csv('./test_label-'+str(datetime.date.today())+'.csv', index = None)\n",
    "# leader board: 0.7559, worse than gender model"
   ]
  },
  {
   "cell_type": "code",
   "execution_count": 179,
   "metadata": {
    "collapsed": false
   },
   "outputs": [
    {
     "data": {
      "image/png": "[encoded data removed]",
      "text/plain": [
       "<matplotlib.figure.Figure at 0xa80975cc>"
      ]
     },
     "metadata": {},
     "output_type": "display_data"
    }
   ],
   "source": [
    "# some visualization\n",
    "g = sns.PairGrid(train_df,\n",
    "                 x_vars=[\"Survived\"],\n",
    "                 y_vars=features,\n",
    "                 aspect=.75, size=3.5)\n",
    "g.map(sns.violinplot, palette=\"pastel\");\n"
   ]
  },
  {
   "cell_type": "code",
   "execution_count": 11,
   "metadata": {
    "collapsed": false
   },
   "outputs": [
    {
     "data": {
      "text/plain": [
       "0.68609865470852016"
      ]
     },
     "execution_count": 11,
     "metadata": {},
     "output_type": "execute_result"
    }
   ],
   "source": [
    "# fitting with NB. \n",
    "nb_clf = KNeighborsClassifier(n_neighbors=1)\n",
    "nb_clf.fit(x_train, y_train)\n",
    "nb_clf.score(x_test, y_test)"
   ]
  },
  {
   "cell_type": "code",
   "execution_count": 15,
   "metadata": {
    "collapsed": false
   },
   "outputs": [
    {
     "name": "stdout",
     "output_type": "stream",
     "text": [
      "# Tuning hyper-parameters for accuracy\n",
      "()\n",
      "Best parameters set found on development set:\n",
      "\n",
      "{'C': 0.059948425031894091}\n",
      "()\n",
      "Grid scores on development set:\n",
      "()\n",
      "0.688 (+/-0.021) for {'C': 0.01}\n",
      "0.785 (+/-0.021) for {'C': 0.059948425031894091}\n",
      "0.782 (+/-0.021) for {'C': 0.35938136638046275}\n",
      "0.782 (+/-0.021) for {'C': 2.1544346900318843}\n",
      "0.782 (+/-0.021) for {'C': 12.915496650148841}\n",
      "0.782 (+/-0.021) for {'C': 77.426368268112697}\n",
      "0.782 (+/-0.021) for {'C': 464.15888336127819}\n",
      "0.782 (+/-0.021) for {'C': 2782.5594022071259}\n",
      "0.782 (+/-0.021) for {'C': 16681.005372000593}\n",
      "0.782 (+/-0.021) for {'C': 100000.0}\n",
      "()\n",
      "Detailed classification report:\n",
      "()\n",
      "The model is trained on the full development set.\n",
      "The scores are computed on the full evaluation set.\n",
      "()\n",
      "             precision    recall  f1-score   support\n",
      "\n",
      "          0       0.75      0.84      0.80        51\n",
      "          1       0.76      0.64      0.69        39\n",
      "\n",
      "avg / total       0.76      0.76      0.75        90\n",
      "\n",
      "()\n"
     ]
    }
   ],
   "source": [
    "# try logistic\n",
    "from sklearn import linear_model\n",
    "features = ['AgeFill', 'Gender', 'FareFill']\n",
    "tuned_parameters = {'C': np.logspace(-2, 5, 10)}\n",
    "\n",
    "logistic_clf = gridsearchcv_wrapper(linear_model.LogisticRegression(dual=False), tuned_parameters,\n",
    "                                   train_df[features], train_df[label])\n",
    "test_df[label] = logistic_clf.predict(test_df[features])\n",
    "test_df[['PassengerId', 'Survived']].to_csv('./test_label-'+str(datetime.date.today())+'.csv', index = None)\n",
    "# leader boarder: 0.7464, worse than gender model"
   ]
  },
  {
   "cell_type": "code",
   "execution_count": 93,
   "metadata": {
    "collapsed": false,
    "scrolled": true
   },
   "outputs": [
    {
     "data": {
      "text/plain": [
       "(3.1622776601683792e-08-3.1622776601683792e-08j)"
      ]
     },
     "execution_count": 93,
     "metadata": {},
     "output_type": "execute_result"
    }
   ],
   "source": [
    "np.arccosh(1.0 - 1e-15j)"
   ]
  },
  {
   "cell_type": "code",
   "execution_count": 97,
   "metadata": {
    "collapsed": false
   },
   "outputs": [
    {
     "data": {
      "text/plain": [
       "0.00141421344446382"
      ]
     },
     "execution_count": 97,
     "metadata": {},
     "output_type": "execute_result"
    }
   ],
   "source": [
    "np.arccosh(1.000001)"
   ]
  },
  {
   "cell_type": "code",
   "execution_count": 99,
   "metadata": {
    "collapsed": false
   },
   "outputs": [
    {
     "data": {
      "text/plain": [
       "array([0, 0, 0, 0, 0])"
      ]
     },
     "execution_count": 99,
     "metadata": {},
     "output_type": "execute_result"
    }
   ],
   "source": [
    "np.random.poisson.(lam=0, size=5)"
   ]
  },
  {
   "cell_type": "code",
   "execution_count": null,
   "metadata": {
    "collapsed": true
   },
   "outputs": [],
   "source": []
  }
 ],
 "metadata": {
  "kernelspec": {
   "display_name": "Python 2",
   "language": "python",
   "name": "python2"
  },
  "language_info": {
   "codemirror_mode": {
    "name": "ipython",
    "version": 2
   },
   "file_extension": ".py",
   "mimetype": "text/x-python",
   "name": "python",
   "nbconvert_exporter": "python",
   "pygments_lexer": "ipython2",
   "version": "2.7.11"
  }
 },
 "nbformat": 4,
 "nbformat_minor": 0
}
